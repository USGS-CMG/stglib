{
 "cells": [
  {
   "cell_type": "code",
   "execution_count": null,
   "metadata": {},
   "outputs": [],
   "source": [
    "from __future__ import division, print_function\n",
    "\n",
    "import numpy as np\n",
    "import matplotlib.pyplot as plt\n",
    "import matplotlib.gridspec as gridspec\n",
    "import datetime as dt\n",
    "import sys\n",
    "sys.path.append('/Users/dnowacki/Documents/Grand Bay/py')\n",
    "sys.path.append('/Users/dnowacki/Documents/python')\n",
    "sys.path.append('/Users/dnowacki/Documents/stglib')\n",
    "import stglib\n",
    "import gbts\n",
    "import shutil\n",
    "import plotly\n",
    "import plotly.graph_objs as go\n",
    "import pandas as pd\n",
    "import xarray as xr\n",
    "plotly.offline.init_notebook_mode(connected=True)"
   ]
  },
  {
   "cell_type": "code",
   "execution_count": null,
   "metadata": {},
   "outputs": [],
   "source": [
    "gndcrmet = gbts.read_nerrs('/Volumes/Backstaff/field/gb/gndnerr/gndcrmet/GNDCRMET.csv')\n",
    "basedir = '/Volumes/Backstaff/field/gb_proc/'"
   ]
  },
  {
   "cell_type": "code",
   "execution_count": null,
   "metadata": {},
   "outputs": [],
   "source": [
    "def load_raw(site, dep, basedir, waves=False):\n",
    "    fildir = basedir + site + dep + '/' + site + '1' +  dep.upper() + 'aqd'  + '/'\n",
    "\n",
    "    RAW = {}\n",
    "    \n",
    "    if waves == False:\n",
    "        print(fildir + site + '1' + dep.upper() + 'aqd-raw.cdf')\n",
    "        RAW = xr.open_dataset(fildir + site + '1' + dep.upper() + 'aqd-raw.cdf', autoclose=True)\n",
    "    elif waves == True:\n",
    "        print(fildir + site + '1' + dep.upper() + 'aqdwvs-raw.cdf')\n",
    "        RAW = xr.open_dataset(fildir + site + '1' + dep.upper() + 'aqdwvs-raw.cdf', autoclose=True)\n",
    "    \n",
    "    return RAW, fildir\n",
    "\n",
    "def proc_atmpres(site, dep, offset, basedir, waves=False):\n",
    "    RAW, fildir = load_raw(site, dep, basedir, waves=waves)\n",
    "\n",
    "    met = gndcrmet['BP']/100\n",
    "    met = met.rename('atmpres')\n",
    "    met = met.reindex(time=RAW['time'], copy=True, method='nearest')\n",
    "    met.attrs.update(offset=offset)\n",
    "    \n",
    "    if waves == False:\n",
    "        print('in proc nowaves')\n",
    "        met.to_netcdf(fildir + 'atmpres.cdf')\n",
    "    elif waves == True:\n",
    "        print('in proc waves')\n",
    "        met.to_netcdf(fildir + 'atmpres-wvs.cdf')\n",
    "\n",
    "    return RAW \n",
    "\n",
    "def load_clean(site, dep, basedir):\n",
    "    fildir = basedir + site + dep + '/' + site + '1' +  dep.upper() + 'aqd'  + '/'\n",
    "\n",
    "    RAW = {}\n",
    "    print(fildir + site + '1' + dep.upper() + 'aqd-a.nc')\n",
    "    RAW = xr.open_dataset(fildir + site + '1' + dep.upper() + 'aqd-a.nc', decode_times=False, autoclose=True)\n",
    "    RAW['time'] = RAW['time_cf']\n",
    "    RAW = RAW.drop('time2')\n",
    "    RAW = xr.decode_cf(RAW)\n",
    "    \n",
    "    return RAW"
   ]
  },
  {
   "cell_type": "code",
   "execution_count": null,
   "metadata": {},
   "outputs": [],
   "source": [
    "# set offset for 1076b & 1078b to 10.15 to equalize postitive, negative anomalies for \n",
    "# atmos-corrected pressure at beginning/end of deployment\n",
    "print('Processing Aquadopp currents')\n",
    "for site, dep, offset in zip(['1076', '1076', '1077', '1077', '1078', '1078', '1079', '1079'], \n",
    "                             ['a',    'b',    'a',    'b',    'a',    'b',    'a',    'b'], \n",
    "                             [-10.15,  -10.25, -10.20, -10.20, -10.15, -10.25,  -10.08,  -9.95]):\n",
    "    # 1077a offset is an estimate, no good pressure data outside of in-water time\n",
    "    proc_atmpres(site, dep, offset, basedir, waves=False)\n",
    "\n",
    "print('Processing Aquadopp waves')\n",
    "for site, dep, offset in zip(['1076', '1076', '1078', '1078', '1079'], \n",
    "                             ['a',    'b',    'a',    'b',    'b'], \n",
    "                             [-10.15,  -10.25, -10.15, -10.25,  -9.95]):\n",
    "    \n",
    "    proc_atmpres(site, dep, offset, basedir, waves=True)"
   ]
  },
  {
   "cell_type": "code",
   "execution_count": null,
   "metadata": {},
   "outputs": [],
   "source": [
    "print(RAW['Pressure'])"
   ]
  },
  {
   "cell_type": "code",
   "execution_count": null,
   "metadata": {},
   "outputs": [],
   "source": [
    "site = '1076'\n",
    "dep = 'b'\n",
    "offset = 10.15\n",
    "RAW, fildir = load_raw(site, dep, basedir)\n",
    "VEL = load_clean(site, dep, basedir)"
   ]
  },
  {
   "cell_type": "code",
   "execution_count": null,
   "metadata": {},
   "outputs": [],
   "source": [
    "trace = go.Scatter(\n",
    "    x = RAW['time'].values,\n",
    "    y = RAW['Pressure'].values, \n",
    "    name = 'Raw pressure'\n",
    ")\n",
    "\n",
    "trace2 = go.Scatter(\n",
    "    x = VEL['time'].values,\n",
    "    y = VEL['P_1ac'].values,\n",
    "    name = 'Atmos. corrected'\n",
    ")\n",
    "layout = go.Layout(title=site + dep + ' offset: ' + str(offset))\n",
    "data = [trace, trace2]\n",
    "fig = go.Figure(data=data, layout=layout)\n",
    "plotly.offline.iplot(fig)"
   ]
  },
  {
   "cell_type": "code",
   "execution_count": null,
   "metadata": {},
   "outputs": [],
   "source": []
  }
 ],
 "metadata": {
  "kernelspec": {
   "display_name": "Python 3",
   "language": "python",
   "name": "python3"
  },
  "language_info": {
   "codemirror_mode": {
    "name": "ipython",
    "version": 3
   },
   "file_extension": ".py",
   "mimetype": "text/x-python",
   "name": "python",
   "nbconvert_exporter": "python",
   "pygments_lexer": "ipython3",
   "version": "3.6.3"
  }
 },
 "nbformat": 4,
 "nbformat_minor": 2
}
