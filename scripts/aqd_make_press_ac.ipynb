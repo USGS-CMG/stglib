{
 "cells": [
  {
   "cell_type": "markdown",
   "metadata": {},
   "source": [
    "# Atmospheric pressure correction\n",
    "\n",
    "This notebook uses example data to generate an atmospheric correction file."
   ]
  },
  {
   "cell_type": "markdown",
   "metadata": {},
   "source": [
    "## Imports\n",
    "Note you may need to uncomment the commented lines and put the path to stglib on your machine.\n",
    "\n",
    "We set the directory where the example files are set, and read the atmospheric pressure data into an xarray Datset."
   ]
  },
  {
   "cell_type": "code",
   "execution_count": null,
   "metadata": {},
   "outputs": [],
   "source": [
    "from __future__ import division, print_function\n",
    "# import sys\n",
    "# sys.path.append('/Users/dnowacki/Documents/stglib')\n",
    "import stglib\n",
    "import numpy as np\n",
    "import matplotlib.pyplot as plt\n",
    "import pandas as pd\n",
    "import xarray as xr\n",
    "\n",
    "basedir = '../examples/'\n",
    "gndcrmet = xr.open_dataset(basedir + 'gndcrmet.nc')"
   ]
  },
  {
   "cell_type": "markdown",
   "metadata": {},
   "source": [
    "## Function definitions"
   ]
  },
  {
   "cell_type": "code",
   "execution_count": null,
   "metadata": {},
   "outputs": [],
   "source": [
    "def load_raw(site, dep, basedir, waves=False):\n",
    "    fildir = basedir\n",
    "\n",
    "    if waves == False:\n",
    "        print(fildir + site + '1' + dep.upper() + 'aqd-raw.cdf')\n",
    "        RAW = xr.open_dataset(fildir + site + '1' + dep.upper() + 'aqd-raw.cdf', autoclose=True)\n",
    "    elif waves == True:\n",
    "        print(fildir + site + '1' + dep.upper() + 'aqdwvs-raw.cdf')\n",
    "        RAW = xr.open_dataset(fildir + site + '1' + dep.upper() + 'aqdwvs-raw.cdf', autoclose=True)\n",
    "    \n",
    "    return RAW, fildir\n",
    "\n",
    "def proc_atmpres(site, dep, offset, basedir, waves=False):\n",
    "    RAW, fildir = load_raw(site, dep, basedir, waves=waves)\n",
    "\n",
    "    # take our atmos data and convert to decibars\n",
    "    met = gndcrmet['BP']/100\n",
    "    met = met.rename('atmpres')\n",
    "    # reindex the met data onto the Aquadopp time base\n",
    "    met = met.reindex(time=RAW['time'], copy=True, method='nearest')\n",
    "    # set the atmospheric offset as an attribute\n",
    "    met.attrs.update(offset=offset)\n",
    "    \n",
    "    if waves == False:\n",
    "        print('in proc nowaves')\n",
    "        met.to_netcdf(fildir + 'atmpres.cdf')\n",
    "    elif waves == True:\n",
    "        print('in proc waves')\n",
    "        met.to_netcdf(fildir + 'atmpres-wvs.cdf')\n",
    "\n",
    "    return RAW \n",
    "\n",
    "def load_clean(site, dep, basedir):\n",
    "    fildir = basedir\n",
    "\n",
    "    print(fildir + site + '1' + dep.upper() + 'aqd-a.nc')\n",
    "    RAW = xr.open_dataset(fildir + site + '1' + dep.upper() + 'aqd-a.nc', decode_times=False, autoclose=True)\n",
    "    RAW['time'] = RAW['time_cf']\n",
    "    RAW = RAW.drop('time2')\n",
    "    \n",
    "    return xr.decode_cf(RAW)"
   ]
  },
  {
   "cell_type": "markdown",
   "metadata": {},
   "source": [
    "## Generate the atmpres.cdf file \n",
    "This generates the file and embeds the instrument-specific offset as an attr. The trickiest part of this process is determining what to use as an offset. After you run this cell, you will have your very own atmpres.cdf file!"
   ]
  },
  {
   "cell_type": "code",
   "execution_count": null,
   "metadata": {},
   "outputs": [],
   "source": [
    "# set offset for 1076b & 1078b to 10.15 to equalize postitive, negative anomalies for \n",
    "# atmos-corrected pressure at beginning/end of deployment\n",
    "print('Processing Aquadopp currents')\n",
    "site = '1076'\n",
    "dep = 'a'\n",
    "offset = -10.15\n",
    "\n",
    "proc_atmpres(site, dep, offset, basedir, waves=False)\n",
    "\n",
    "# print('Processing Aquadopp waves')\n",
    "# for site, dep, offset in zip(['1076', '1076', '1078', '1078', '1079'], \n",
    "#                              ['a',    'b',    'a',    'b',    'b'], \n",
    "#                              [-10.15,  -10.25, -10.15, -10.25,  -9.95]):\n",
    "    \n",
    "#     proc_atmpres(site, dep, offset, basedir, waves=True)"
   ]
  },
  {
   "cell_type": "markdown",
   "metadata": {},
   "source": [
    "## Load clean data\n",
    "Note that you need to run the proper run scripts with your generated atmpres.cdf files... this only uses example files."
   ]
  },
  {
   "cell_type": "code",
   "execution_count": null,
   "metadata": {},
   "outputs": [],
   "source": [
    "RAW, fildir = load_raw(site, dep, basedir)\n",
    "VEL = load_clean(site, dep, basedir)"
   ]
  },
  {
   "cell_type": "markdown",
   "metadata": {},
   "source": [
    "## View data\n",
    "See how the raw and P_1ac data compare."
   ]
  },
  {
   "cell_type": "code",
   "execution_count": null,
   "metadata": {},
   "outputs": [],
   "source": [
    "plt.figure(figsize=(10,8))\n",
    "RAW['Pressure'].plot()\n",
    "VEL['P_1ac'].plot()\n",
    "plt.show()"
   ]
  },
  {
   "cell_type": "code",
   "execution_count": null,
   "metadata": {},
   "outputs": [],
   "source": []
  }
 ],
 "metadata": {
  "kernelspec": {
   "display_name": "Python 3",
   "language": "python",
   "name": "python3"
  },
  "language_info": {
   "codemirror_mode": {
    "name": "ipython",
    "version": 3
   },
   "file_extension": ".py",
   "mimetype": "text/x-python",
   "name": "python",
   "nbconvert_exporter": "python",
   "pygments_lexer": "ipython3",
   "version": "3.6.3"
  }
 },
 "nbformat": 4,
 "nbformat_minor": 2
}
