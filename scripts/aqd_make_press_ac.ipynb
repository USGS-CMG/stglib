{
 "cells": [
  {
   "cell_type": "markdown",
   "metadata": {},
   "source": [
    "# Atmospheric pressure correction\n",
    "\n",
    "This notebook uses example data to generate an atmospheric correction file."
   ]
  },
  {
   "cell_type": "code",
   "execution_count": null,
   "metadata": {},
   "outputs": [],
   "source": [
    "import stglib\n",
    "import matplotlib.pyplot as plt\n",
    "import xarray as xr\n",
    "import pandas as pd\n",
    "\n",
    "basedir = '../examples/'"
   ]
  },
  {
   "cell_type": "markdown",
   "metadata": {},
   "source": [
    "## Generate atmospheric .nc file"
   ]
  },
  {
   "cell_type": "code",
   "execution_count": null,
   "metadata": {},
   "outputs": [],
   "source": [
    "def read_met_data(filename):\n",
    "    a = pd.read_csv(filename, header=2, parse_dates=[2], index_col=2)\n",
    "\n",
    "    # add 6 hours to get to UTC (but remian naive)\n",
    "    a.index = a.index + pd.Timedelta('6 hours')\n",
    "    a.index.rename('time', inplace=True)\n",
    "\n",
    "    return xr.Dataset(a)\n",
    "\n",
    "gndcrmet = read_met_data(basedir + 'GNDCRMET.csv') # This creates an xarray Dataset\n",
    "gndcrmet = gndcrmet['BP'].to_dataset() # Let's keep only the BP variable\n",
    "gndcrmet['BP'] = gndcrmet['BP']/100 # convert our atmos data (in millibars) to decibars\n",
    "gndcrmet.to_netcdf(basedir + 'gndcrmet.nc') # This saves to a .nc file. Not required here as we will just be reading it back again"
   ]
  },
  {
   "cell_type": "markdown",
   "metadata": {},
   "source": [
    "## Generate the atmpres.cdf file \n",
    "This generates the file and embeds the instrument-specific offset as an attr. The trickiest part of this process is determining what to use as an offset. After you run this cell, you will have your very own atmpres.cdf file!"
   ]
  },
  {
   "cell_type": "code",
   "execution_count": null,
   "metadata": {},
   "outputs": [],
   "source": [
    "# Load the raw Aquadopp data\n",
    "RAW = xr.load_dataset(basedir + '10761Aaqd-raw.cdf')\n",
    "\n",
    "# Load the met data\n",
    "gndcrmet = xr.load_dataset(basedir + 'gndcrmet.nc')\n",
    "\n",
    "met = gndcrmet['BP'] # make a new met variable\n",
    "met = met.rename('atmpres') # rename it to the standard atmpres variable name\n",
    "met = met.reindex(time=RAW['time'], copy=True, method='nearest') # reindex the met data onto the Aquadopp time base\n",
    "met.attrs.update(offset=-10.15) # set the atmospheric offset as an attribute\n",
    "met.to_netcdf(basedir + 'atmpres.cdf') # save to disk"
   ]
  },
  {
   "cell_type": "markdown",
   "metadata": {},
   "source": [
    "## Load clean data\n",
    "Note that you need to run the proper run scripts with your generated atmpres.cdf files... this only uses example files.\n",
    "\n",
    "Note also that the load_clean function below is set up to deal with older EPIC files. Files generated with modern versions of stglib will be in CF Conventions, but the process of generating an atmospheric pressure file is essentially the same."
   ]
  },
  {
   "cell_type": "code",
   "execution_count": null,
   "metadata": {},
   "outputs": [],
   "source": [
    "def load_clean(filename, basedir):\n",
    "    fildir = basedir\n",
    "\n",
    "    ds = xr.open_dataset(basedir + filename, decode_times=False, autoclose=True)\n",
    "    ds['time'] = ds['time_cf']\n",
    "    ds = ds.drop_vars('time2')\n",
    "    \n",
    "    return xr.decode_cf(ds)\n",
    "\n",
    "VEL = load_clean('10761Aaqd-a.nc', basedir)"
   ]
  },
  {
   "cell_type": "markdown",
   "metadata": {},
   "source": [
    "## View data\n",
    "See how the raw and P_1ac data compare."
   ]
  },
  {
   "cell_type": "code",
   "execution_count": null,
   "metadata": {},
   "outputs": [],
   "source": [
    "plt.figure(figsize=(10,8))\n",
    "RAW['Pressure'].plot()\n",
    "VEL['P_1ac'].plot()\n",
    "plt.show()"
   ]
  },
  {
   "cell_type": "code",
   "execution_count": null,
   "metadata": {},
   "outputs": [],
   "source": []
  }
 ],
 "metadata": {
  "kernelspec": {
   "display_name": "Python 3 (ipykernel)",
   "language": "python",
   "name": "python3"
  },
  "language_info": {
   "codemirror_mode": {
    "name": "ipython",
    "version": 3
   },
   "file_extension": ".py",
   "mimetype": "text/x-python",
   "name": "python",
   "nbconvert_exporter": "python",
   "pygments_lexer": "ipython3",
   "version": "3.11.7"
  }
 },
 "nbformat": 4,
 "nbformat_minor": 4
}
