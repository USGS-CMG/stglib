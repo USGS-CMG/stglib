{
 "cells": [
  {
   "cell_type": "code",
   "execution_count": null,
   "metadata": {},
   "outputs": [],
   "source": [
    "from __future__ import division, print_function\n",
    "\n",
    "import numpy as np\n",
    "import matplotlib.pyplot as plt\n",
    "import matplotlib.gridspec as gridspec\n",
    "import datetime as dt\n",
    "import sys\n",
    "sys.path.append('/Users/dnowacki/Documents/Grand Bay/py')\n",
    "sys.path.append('/Users/dnowacki/Documents/python')\n",
    "sys.path.append('/Users/dnowacki/Documents/stglib')\n",
    "import stglib\n",
    "import gbts\n",
    "import shutil\n",
    "import plotly\n",
    "import plotly.graph_objs as go\n",
    "import pandas as pd\n",
    "import xarray as xr\n",
    "plotly.offline.init_notebook_mode(connected=True)"
   ]
  },
  {
   "cell_type": "code",
   "execution_count": null,
   "metadata": {},
   "outputs": [],
   "source": [
    "gndcrmet = gbts.read_nerrs('/Volumes/Backstaff/field/gb/gndnerr/gndcrmet/GNDCRMET.csv')\n",
    "basedir = '/Volumes/Backstaff/field/gb_proc/'"
   ]
  },
  {
   "cell_type": "code",
   "execution_count": null,
   "metadata": {},
   "outputs": [],
   "source": [
    "def load_raw(site, dep):\n",
    "    if site == '1080':\n",
    "        height = '1'\n",
    "    else:\n",
    "        height = '3'\n",
    "    fildir = basedir + site + dep + '/' + site + height + dep.upper() + 'dw/'\n",
    "\n",
    "    RAW = {}\n",
    "    print(fildir + site + height + dep.upper() + 'dw-raw.cdf')\n",
    "    RAW = xr.open_dataset(fildir + site + height + dep.upper() + 'dw-raw.cdf')\n",
    "    \n",
    "    return RAW, fildir\n",
    "\n",
    "def load_clean(site, dep, basedir):\n",
    "    if site == '1080':\n",
    "        height = '1'\n",
    "    else:\n",
    "        height = '3'\n",
    "        \n",
    "    fildir = basedir + site + dep + '/' + site + height +  dep.upper() + 'dw/'\n",
    "\n",
    "    RAW = {}\n",
    "    print(fildir + site + '1' + dep.upper() + 'dws-a.nc')\n",
    "    RAW = xr.open_dataset(fildir + site + height + dep.upper() + 'dws-a.nc', decode_times=False)\n",
    "    RAW['time'] = RAW['time_cf']\n",
    "    RAW = RAW.drop('time2')\n",
    "    RAW = xr.decode_cf(RAW)\n",
    "    \n",
    "    return RAW"
   ]
  },
  {
   "cell_type": "code",
   "execution_count": null,
   "metadata": {},
   "outputs": [],
   "source": [
    "for site, dep, offset in zip(['1076', '1077', '1078', '1078', '1079', '1080'], \n",
    "                             ['b',    'b',    'a',    'b',    'a',    'b'], \n",
    "                             [0.25,   0.20,   0.52,   0.56,   0.20,   0.22]):\n",
    "    RAW, fildir = load_raw(site, dep)\n",
    "    \n",
    "    met = gndcrmet['BP']/100\n",
    "    met = met.rename('atmpres')\n",
    "    met = met.reindex(time=RAW['time'], copy=True, method='nearest')\n",
    "    met.attrs.update(offset=offset)\n",
    "    met.to_netcdf(fildir + 'atmpres.cdf')"
   ]
  },
  {
   "cell_type": "code",
   "execution_count": null,
   "metadata": {},
   "outputs": [],
   "source": [
    "# this cell is where we set the offset!\n",
    "\n",
    "trace = go.Scatter(\n",
    "    x = RAW['time'].values,\n",
    "    y = RAW['P_1'][:,0].values - met.values - 0.22, \n",
    "    name = 'P_1 - met'\n",
    ")\n",
    "data = [trace]\n",
    "fig = go.Figure(data=data)\n",
    "plotly.offline.iplot(fig)"
   ]
  },
  {
   "cell_type": "code",
   "execution_count": null,
   "metadata": {},
   "outputs": [],
   "source": []
  },
  {
   "cell_type": "code",
   "execution_count": null,
   "metadata": {},
   "outputs": [],
   "source": [
    "site = '1078'\n",
    "dep = 'a'\n",
    "\n",
    "ds = load_clean(site, dep, basedir)\n",
    "fig = plotly.tools.make_subplots(rows=2, cols=1, shared_xaxes=True, print_grid=False)\n",
    "trace = go.Scatter(\n",
    "    x = ds['time'].to_series(),\n",
    "    y = ds['wh_4061'].to_series(), \n",
    "    name = ds['wh_4061'].attrs['long_name']\n",
    ")\n",
    "\n",
    "trace2 = go.Scatter(\n",
    "    x = ds['time'].to_series(),\n",
    "    y = ds['wp_peak'].to_series(),\n",
    "    name = ds['wp_peak'].attrs['long_name']\n",
    ")\n",
    "fig.append_trace(trace, 1, 1)\n",
    "fig.append_trace(trace2, 2, 1)\n",
    "trace2 = go.Scatter(\n",
    "    x = ds['time'].to_series(),\n",
    "    y = ds['wp_4060'].to_series(),\n",
    "    name = ds['wp_4060'].attrs['long_name']\n",
    ")\n",
    "fig.append_trace(trace2, 2, 1)\n",
    "# layout = go.Layout(title=site + dep + ' offset: ' + str(offset))\n",
    "# data = [trace, trace2]\n",
    "# fig = go.Figure(data=data)\n",
    "plotly.offline.iplot(fig)"
   ]
  },
  {
   "cell_type": "code",
   "execution_count": null,
   "metadata": {},
   "outputs": [],
   "source": [
    "fig = plotly.tools.make_subplots(rows=1, cols=1, shared_xaxes=True, print_grid=False)\n",
    "trace = go.Scatter(x = ds['time'].to_series(),\n",
    "    y = ds['wp_peak'].to_series() / ds['wp_4060'].to_series())\n",
    "\n",
    "fig.append_trace(trace, 1, 1)\n",
    "\n",
    "trace = go.Scatter(x = ds['time'].to_series(),\n",
    "    y = ds['wp_peak'].to_series())\n",
    "\n",
    "fig.append_trace(trace, 1, 1)\n",
    "plotly.offline.iplot(fig)"
   ]
  },
  {
   "cell_type": "code",
   "execution_count": null,
   "metadata": {},
   "outputs": [],
   "source": []
  }
 ],
 "metadata": {
  "kernelspec": {
   "display_name": "Python 3",
   "language": "python",
   "name": "python3"
  },
  "language_info": {
   "codemirror_mode": {
    "name": "ipython",
    "version": 3
   },
   "file_extension": ".py",
   "mimetype": "text/x-python",
   "name": "python",
   "nbconvert_exporter": "python",
   "pygments_lexer": "ipython3",
   "version": "3.6.3"
  }
 },
 "nbformat": 4,
 "nbformat_minor": 2
}
