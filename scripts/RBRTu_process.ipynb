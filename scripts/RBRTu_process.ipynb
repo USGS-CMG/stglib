{
 "cells": [
  {
   "cell_type": "markdown",
   "metadata": {},
   "source": [
    "Here is an example of how to process the RBR Virtuoso Tu in a python notebook. <br>\n",
    "You will need a RBRTu_config.yaml file with the following (edited for your deployment), <br>\n",
    "You will find examples of these in the examples directory:\n",
    "\n",
    "    basefile: 'RBRTu_rawdata'\n",
    "    filename: '111012RBRTu'\n",
    "    LatLonDatum: 'NAD83'\n",
    "    initial_instrument_height: 0.4  # meters - estimated!!!\n",
    "    instrument_type: 'Virtuoso Tu'\n",
    "    \n",
    "<br>\n",
    "You will also need a global attribute file RBRTu_glob_att.txt with the following (edited for your deployment):\n",
    "\n",
    "    SciPi; J. Warner\n",
    "    PROJECT; USGS Coastal Marine Geology Program\n",
    "    EXPERIMENT; Matanzas Inlet Sediment Transport\n",
    "    DESCRIPTION; Shallow site Quadpod\n",
    "    DATA_SUBTYPE; MOORED\n",
    "    DATA_ORIGIN; USGS WHCMSC Sediment Transport Group\n",
    "    COORD_SYSTEM; GEOGRAPHIC\n",
    "    Conventions; PMEL/EPIC\n",
    "    MOORING; 1110\n",
    "    WATER_DEPTH; 8.6\n",
    "    WATER_DEPTH_NOTE; (meters), ship's echosounder\n",
    "    latitude; 29.711400\n",
    "    longitude; -81.218633\n",
    "    magnetic_variation; -6.7\n",
    "    Deployment_date; 24-Jan-2018\n",
    "    Recovery_date; 13-Apr-2018\n",
    "    DATA_CMNT;  \n",
    "    platform_type; Large quadpod Lander\n",
    "    DRIFTER; 0\n",
    "    POS_CONST; 0\n",
    "    DEPTH_CONST; 0\n",
    "    COORD_SYSTEM; GEOGRAPHIC\n",
    "    Conventions; PMEL/EPIC\n",
    "    institution; United States Geological Survey, Woods Hole Coastal and Marine Science Center\n",
    "    institution_url; http://woodshole.er.usgs.gov"
   ]
  },
  {
   "cell_type": "code",
   "execution_count": 1,
   "metadata": {},
   "outputs": [],
   "source": [
    "import sys\n",
    "# edit these paths as necessary for your operating system and python setup\n",
    "sys.path.append('C:\\\\projects\\\\python\\\\stglib')\n",
    "sys.path.append('C:\\\\projects\\\\python\\\\xmltodict')\n",
    "import stglib\n",
    "import yaml"
   ]
  },
  {
   "cell_type": "markdown",
   "metadata": {},
   "source": [
    "Set up the metadata"
   ]
  },
  {
   "cell_type": "code",
   "execution_count": 2,
   "metadata": {},
   "outputs": [],
   "source": [
    "# normally all these files and this executing code will be in the same directory\n",
    "# for the structure of stglib on github, these examples are separated from the scripts\n",
    "configfile = \"..\\\\examples\\\\RBRTu_config.yaml\"\n",
    "gattfile = \"..\\\\examples\\\\RBRTu_glob_att.txt\"\n",
    "# initialize metadata from the globalatts file\n",
    "metadata = stglib.read_globalatts(gattfile)\n",
    "\n",
    "# Add additional metadata from metadata config file\n",
    "with open(configfile) as f:\n",
    "    config = yaml.safe_load(f)\n",
    "\n",
    "for k in config:\n",
    "    metadata[k] = config[k]\n",
    "\n",
    "# adjust the location of the data file to the examples directory\n",
    "metadata['basefile'] = '..\\\\examples\\\\'+metadata['basefile']\n",
    "    \n",
    "# note the data file name is not returned by rsk_to_cdf\n",
    "ncfilename = config['filename']+'-raw.cdf'"
   ]
  },
  {
   "cell_type": "markdown",
   "metadata": {},
   "source": [
    "convert from raw data to netcdf, add metadata"
   ]
  },
  {
   "cell_type": "code",
   "execution_count": 3,
   "metadata": {},
   "outputs": [
    {
     "name": "stdout",
     "output_type": "stream",
     "text": [
      "Loading from sqlite file ..\\examples\\RBRTu_rawdata.rsk; this may take a while for large datasets\n",
      "Done fetching data\n",
      "we are up to writing Turb\n",
      "Writing to raw netCDF\n",
      "Done\n"
     ]
    }
   ],
   "source": [
    "RAW = stglib.rsk.rsk2cdf.rsk_to_cdf(metadata)"
   ]
  },
  {
   "cell_type": "code",
   "execution_count": 4,
   "metadata": {},
   "outputs": [
    {
     "data": {
      "text/plain": [
       "[<matplotlib.lines.Line2D at 0x4c68d7bf60>]"
      ]
     },
     "execution_count": 4,
     "metadata": {},
     "output_type": "execute_result"
    },
    {
     "data": {
      "image/png": "[encoded data removed]",
      "text/plain": [
       "<Figure size 432x288 with 1 Axes>"
      ]
     },
     "metadata": {
      "needs_background": "light"
     },
     "output_type": "display_data"
    }
   ],
   "source": [
    "RAW['Turb'].plot()"
   ]
  },
  {
   "cell_type": "code",
   "execution_count": 5,
   "metadata": {},
   "outputs": [
    {
     "data": {
      "text/plain": [
       "<xarray.Dataset>\n",
       "Dimensions:  (depth: 1, lat: 1, lon: 1, time: 156864)\n",
       "Coordinates:\n",
       "  * time     (time) datetime64[ns] 2017-12-27T19:40:26 ... 2018-04-15T18:03:26\n",
       "  * depth    (depth) float64 8.2\n",
       "  * lat      (lat) float64 29.71\n",
       "  * lon      (lon) float64 -81.22\n",
       "Data variables:\n",
       "    Turb     (time) float64 -1.062 1.106e+03 1.106e+03 ... 1.106e+03 1.106e+03\n",
       "Attributes:\n",
       "    SciPi:                       J. Warner\n",
       "    PROJECT:                     USGS Coastal Marine Geology Program\n",
       "    EXPERIMENT:                  Matanzas Inlet Sediment Transport\n",
       "    DESCRIPTION:                 Shallow site Quadpod\n",
       "    DATA_SUBTYPE:                MOORED\n",
       "    DATA_ORIGIN:                 USGS WHCMSC Sediment Transport Group\n",
       "    COORD_SYSTEM:                GEOGRAPHIC\n",
       "    Conventions:                 PMEL/EPIC\n",
       "    MOORING:                     1110\n",
       "    WATER_DEPTH:                 8.6\n",
       "    WATER_DEPTH_NOTE:            (meters), ship's echosounder\n",
       "    latitude:                    29.7114\n",
       "    longitude:                   -81.218633\n",
       "    magnetic_variation:          -6.7\n",
       "    Deployment_date:             24-Jan-2018\n",
       "    Recovery_date:               13-Apr-2018\n",
       "    DATA_CMNT:                   \n",
       "    platform_type:               Large quadpod Lander\n",
       "    DRIFTER:                     0.0\n",
       "    POS_CONST:                   0.0\n",
       "    DEPTH_CONST:                 0.0\n",
       "    institution:                 United States Geological Survey, Woods Hole ...\n",
       "    institution_url:             http://woodshole.er.usgs.gov\n",
       "    filename:                    111012RBRTu\n",
       "    LatLonDatum:                 NAD83\n",
       "    initial_instrument_height:   0.4\n",
       "    instrument_type:             Virtuoso Tu\n",
       "    history:                     Processed using rsk2cdf.py with Python 3.6.6...\n",
       "    RBR_deployment_ID:           1\n",
       "    RBR_instrument_ID:           1\n",
       "    RBR_number_of_records:       156864\n",
       "    RBR_loggerTimeDrift:         -582653584941\n",
       "    comment:                     4th attempt\n",
       "\\nNow with Ruskin v2.3.1\n",
       "    samples_per_burst:           1\n",
       "    sample_interval:             60.0\n",
       "    serial_number:               54276\n",
       "    INST_TYPE:                   RBRvirtuoso\n",
       "    RBR_firmwareVersion:         1.41\n",
       "    RBR_firmwareType:            103\n",
       "    RBR_ruskinVersion:           2.3.1\n",
       "    RBR_ranging_mode:            Auto\n",
       "    RBR_ranging_gain:            1.0\n",
       "    RBR_ranging_availableGains:  1.0|5.0|20.0|100.0\n",
       "    RBR_coefficients_c0:         3483.989\n",
       "    RBR_coefficients_c1:         -4756.7354"
      ]
     },
     "execution_count": 5,
     "metadata": {},
     "output_type": "execute_result"
    }
   ],
   "source": [
    "RAW"
   ]
  },
  {
   "cell_type": "markdown",
   "metadata": {},
   "source": [
    "convert to EPIC format, trim for in water"
   ]
  },
  {
   "cell_type": "code",
   "execution_count": 6,
   "metadata": {},
   "outputs": [
    {
     "name": "stdout",
     "output_type": "stream",
     "text": [
      "first burst in full file: 2017-12-27T19:40:26.000000000\n",
      "last burst in full file: 2018-04-15T18:03:26.000000000\n",
      "Clipping data using Deployment_date and Recovery_date\n",
      "first burst in trimmed file: 2018-01-24T00:00:26.000000000\n",
      "last burst in trimmed file: 2018-04-13T23:59:26.000000000\n",
      "Writing cleaned/trimmed data to .nc file\n",
      "Done writing netCDF file 111012RBRTu-cal.nc\n"
     ]
    }
   ],
   "source": [
    "nc = stglib.rsk.cdf2nc.cdf_to_nc(ncfilename)"
   ]
  },
  {
   "cell_type": "markdown",
   "metadata": {},
   "source": [
    "to plot conveniently we need to be in CF time, the dataset above is in EPIC, so convert back"
   ]
  },
  {
   "cell_type": "code",
   "execution_count": 7,
   "metadata": {},
   "outputs": [],
   "source": [
    "nccf = stglib.utils.epic_to_cf_time(nc)"
   ]
  },
  {
   "cell_type": "code",
   "execution_count": 8,
   "metadata": {},
   "outputs": [
    {
     "data": {
      "text/plain": [
       "[<matplotlib.lines.Line2D at 0x4c69399a58>]"
      ]
     },
     "execution_count": 8,
     "metadata": {},
     "output_type": "execute_result"
    },
    {
     "data": {
      "image/png": "[encoded data removed]",
      "text/plain": [
       "<Figure size 432x288 with 1 Axes>"
      ]
     },
     "metadata": {
      "needs_background": "light"
     },
     "output_type": "display_data"
    }
   ],
   "source": [
    "nccf['Turb'].plot()"
   ]
  },
  {
   "cell_type": "markdown",
   "metadata": {},
   "source": [
    "Done!"
   ]
  },
  {
   "cell_type": "code",
   "execution_count": null,
   "metadata": {},
   "outputs": [],
   "source": []
  }
 ],
 "metadata": {
  "_draft": {
   "nbviewer_url": "https://gist.github.com/1e94b4f13173be084e4a0cc12bf0ce0b"
  },
  "gist": {
   "data": {
    "description": "data/111011RBRTu/Process 111011RBRTu.ipynb",
    "public": true
   },
   "id": "1e94b4f13173be084e4a0cc12bf0ce0b"
  },
  "kernelspec": {
   "display_name": "Python 3",
   "language": "python",
   "name": "python3"
  },
  "language_info": {
   "codemirror_mode": {
    "name": "ipython",
    "version": 3
   },
   "file_extension": ".py",
   "mimetype": "text/x-python",
   "name": "python",
   "nbconvert_exporter": "python",
   "pygments_lexer": "ipython3",
   "version": "3.6.6"
  }
 },
 "nbformat": 4,
 "nbformat_minor": 2
}
